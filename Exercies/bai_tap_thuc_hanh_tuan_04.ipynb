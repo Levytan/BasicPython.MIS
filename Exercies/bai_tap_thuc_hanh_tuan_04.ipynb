{
  "nbformat": 4,
  "nbformat_minor": 0,
  "metadata": {
    "colab": {
      "name": "bai_thuc_hanh_tuan_4",
      "provenance": []
    },
    "kernelspec": {
      "name": "python3",
      "display_name": "Python 3"
    }
  },
  "cells": [
    {
      "cell_type": "markdown",
      "metadata": {
        "id": "zWwCB1nMwkrV",
        "colab_type": "text"
      },
      "source": [
        "**Câu 1** : Viết hàm tính tổng các tham số truyền vào."
      ]
    },
    {
      "cell_type": "code",
      "metadata": {
        "id": "KqI7AfJhwkIG",
        "colab_type": "code",
        "colab": {}
      },
      "source": [
        ""
      ],
      "execution_count": 0,
      "outputs": []
    },
    {
      "cell_type": "markdown",
      "metadata": {
        "id": "Z8a3J7AaxN7I",
        "colab_type": "text"
      },
      "source": [
        "**Câu 2** : Viết hàm kiểm tra một chuỗi có phải chuỗi hồi văn hay không?\n",
        "\n",
        "_Định nghĩa_ : Chuỗi hồi văn (palindrome) là chuỗi mà đọc xuôi hay ngược đều giống nhau (không phân biệt hoa thường)\n",
        "\n",
        "Ví dụ : `'Nenonen'`, `'Alomomola'`, ... "
      ]
    },
    {
      "cell_type": "code",
      "metadata": {
        "id": "2xXyllMLwT-5",
        "colab_type": "code",
        "colab": {}
      },
      "source": [
        ""
      ],
      "execution_count": 0,
      "outputs": []
    },
    {
      "cell_type": "markdown",
      "metadata": {
        "id": "VX7In7r94SD-",
        "colab_type": "text"
      },
      "source": [
        "**Câu 3** : Viết hàm để kiểm tra xem một số có phải luỹ thừa của 2."
      ]
    },
    {
      "cell_type": "code",
      "metadata": {
        "id": "98yHd1Ed5eJ3",
        "colab_type": "code",
        "colab": {}
      },
      "source": [
        ""
      ],
      "execution_count": 0,
      "outputs": []
    },
    {
      "cell_type": "markdown",
      "metadata": {
        "id": "hg50n7_u5h8Z",
        "colab_type": "text"
      },
      "source": [
        "**Câu 4** : Viết hàm tính tổng các ước (trừ chính nó) của một số tự nhiên."
      ]
    },
    {
      "cell_type": "code",
      "metadata": {
        "id": "hME8pBXj5hkJ",
        "colab_type": "code",
        "colab": {}
      },
      "source": [
        ""
      ],
      "execution_count": 0,
      "outputs": []
    },
    {
      "cell_type": "markdown",
      "metadata": {
        "id": "4xTShVJc5_7w",
        "colab_type": "text"
      },
      "source": [
        "**Câu 5** : Viết hàm tính tổng các chữ số của một số tự nhiên"
      ]
    },
    {
      "cell_type": "code",
      "metadata": {
        "id": "wTjnBeCf6NZ3",
        "colab_type": "code",
        "colab": {}
      },
      "source": [
        ""
      ],
      "execution_count": 0,
      "outputs": []
    },
    {
      "cell_type": "markdown",
      "metadata": {
        "id": "OzIzCe7P6bQc",
        "colab_type": "text"
      },
      "source": [
        "**Câu 6** : Dùng **Câu 4**, viết hàm để kiểm tra 2 số có phải là số bạn bè hay không.\n",
        "\n",
        "_Định nghĩa_ : Cặp số $(a, b)$ được gọi là cặp số bạn bè nếu như tổng các ước của $a$ bằng $b$ và tổng các ước của $b$ bằng $a$.\n",
        "\n",
        "Mười cặp số bè bạn đầu tiên là $(220, 284)$, $(1184, 1210)$, $(2620, 2924)$, $(5020, 5564)$, $(6232, 6368)$, $(10744, 10856)$, $(12285, 14595)$, $(17296, 18416)$, $(63020, 76084)$, $(66928, 66992)$"
      ]
    },
    {
      "cell_type": "code",
      "metadata": {
        "id": "h7cTqZhA9H_D",
        "colab_type": "code",
        "colab": {}
      },
      "source": [
        ""
      ],
      "execution_count": 0,
      "outputs": []
    },
    {
      "cell_type": "markdown",
      "metadata": {
        "id": "UYyr0K9BAQoS",
        "colab_type": "text"
      },
      "source": [
        "**Câu 7** : Viết hàm trả về cách đọc trong tiếng Việt của một số tự nhiên nhỏ hơn 100."
      ]
    },
    {
      "cell_type": "code",
      "metadata": {
        "id": "OyA4N__FCCfm",
        "colab_type": "code",
        "colab": {}
      },
      "source": [
        ""
      ],
      "execution_count": 0,
      "outputs": []
    },
    {
      "cell_type": "markdown",
      "metadata": {
        "id": "g4r-_KhrCGcv",
        "colab_type": "text"
      },
      "source": [
        "**Câu 8** : Viết hàm trả về số chữ số của một số tự nhiên."
      ]
    },
    {
      "cell_type": "code",
      "metadata": {
        "id": "M_wFcRQEKTvz",
        "colab_type": "code",
        "colab": {}
      },
      "source": [
        ""
      ],
      "execution_count": 0,
      "outputs": []
    }
  ]
}