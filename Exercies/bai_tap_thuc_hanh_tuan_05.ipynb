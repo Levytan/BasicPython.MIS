{
  "nbformat": 4,
  "nbformat_minor": 0,
  "metadata": {
    "colab": {
      "name": "bai_thuc_hanh_tuan_5",
      "provenance": []
    },
    "kernelspec": {
      "name": "python3",
      "display_name": "Python 3"
    }
  },
  "cells": [
    {
      "cell_type": "markdown",
      "metadata": {
        "id": "FRlFS__eEUIy",
        "colab_type": "text"
      },
      "source": [
        "**Câu 1** : Viết hàm để trả về số chữ số 0 tận cùng trong khai triển của $n!$.\n",
        "\n",
        "Ví dụ : \n",
        "- $10! = 3628800$, tận cùng bằng 2 chữ số 0.\n",
        "- $15! = 1307674368000$, tận cùng bằng 3 chữ số 0.\n"
      ]
    },
    {
      "cell_type": "code",
      "metadata": {
        "id": "MYbYFPM1ETef",
        "colab_type": "code",
        "colab": {}
      },
      "source": [
        ""
      ],
      "execution_count": 0,
      "outputs": []
    },
    {
      "cell_type": "markdown",
      "metadata": {
        "id": "GBUIxUCnHXPA",
        "colab_type": "text"
      },
      "source": [
        "**Câu 2** :  Viết hàm để tính độ lớn của véc-tơ có toạ độ $(x, y)$ trong mặt phẳng toạ độ $Oxy$."
      ]
    },
    {
      "cell_type": "code",
      "metadata": {
        "id": "LZbO0aipDMzV",
        "colab_type": "code",
        "colab": {}
      },
      "source": [
        ""
      ],
      "execution_count": 0,
      "outputs": []
    },
    {
      "cell_type": "markdown",
      "metadata": {
        "id": "fr9YAH36KVRT",
        "colab_type": "text"
      },
      "source": [
        "**Câu 3** : Viết hàm để tính khoảng cách giữa hai điểm $(x_1, y_1)$ và $(x_2, y_2)$ trong mặt phẳng toạ độ $Oxy$."
      ]
    },
    {
      "cell_type": "code",
      "metadata": {
        "id": "Mc2x7tAALxgo",
        "colab_type": "code",
        "colab": {}
      },
      "source": [
        ""
      ],
      "execution_count": 0,
      "outputs": []
    },
    {
      "cell_type": "markdown",
      "metadata": {
        "id": "c11XfZpzL0ZI",
        "colab_type": "text"
      },
      "source": [
        "**Câu 4** : Trong toán học, một số được gọi là _đem lại niềm vui_ (harshad number) nếu như nó chia hết cho tổng các chữ số của nó. Ví dụ : $132$ là số _đem lại niềm vui_ vì $132$ chia hết cho $6 (= 1 + 3 + 2)$.\n",
        "\n",
        "Hãy viết hàm kiểm tra một số có phải là số <em>đem lại niềm vui</em> và in ra các số _đem lại niềm vui_ nhỏ hơn 100."
      ]
    },
    {
      "cell_type": "code",
      "metadata": {
        "id": "GdWhbEkVNb8v",
        "colab_type": "code",
        "colab": {}
      },
      "source": [
        ""
      ],
      "execution_count": 0,
      "outputs": []
    },
    {
      "cell_type": "markdown",
      "metadata": {
        "id": "mq_FAXMkNjPX",
        "colab_type": "text"
      },
      "source": [
        "# Kiến thức bổ sung\n"
      ]
    },
    {
      "cell_type": "markdown",
      "metadata": {
        "id": "-IPRxw-COtfN",
        "colab_type": "text"
      },
      "source": [
        "## Biểu diễn nhị phân của một số tự nhiên\n",
        "Người ta chứng minh được rằng, với mọi số tự nhiên $n$ bất kỳ luôn luôn có thể biểu diễn dưới dạng :\n",
        "\n",
        "$n = b_k \\times 2^k + b_{k-1} \\times 2^{k-1} + \\cdots + b_1 \\times 2 + b_0 $\n",
        "\n",
        "Trong đó $b_0, b_1, ..., b_{k-1}, b_k \\in \\{0, 1\\}$.\n",
        "\n",
        "Người ta ký hiệu $n = \\overline{b_k b_{k-1}...b_1 b_0}_2$ và gọi $\\overline{b_k b_{k-1}...b_1 b_0}$ là biểu diễn nhị phân (biểu diễn theo cơ số 2) của $n$.\n",
        "\n",
        "Về cơ bản, đây chính là cách đếm các số tự nhiên ở một hành tinh kỳ lạ, nơi mà 'con người' chỉ có tổng cộng 2 ngón tay."
      ]
    },
    {
      "cell_type": "markdown",
      "metadata": {
        "id": "SM0ELpkFRX-X",
        "colab_type": "text"
      },
      "source": [
        "Ví dụ :\n",
        "- $12 = 1 \\times 2^3 + 1 \\times 2^2 + 0 \\times 2 + 0$ nên $12 = \\overline{1100}_2$.\n",
        "- $23 = 1 \\times 2^4 + 0 \\times 2^3 + 1 \\times 2^2 + 1 \\times 2 + 1$ nên $23 = \\overline{10111}_2$"
      ]
    },
    {
      "cell_type": "markdown",
      "metadata": {
        "id": "NzFlG9IqU8zP",
        "colab_type": "text"
      },
      "source": [
        "## Thuật toán\n",
        "Có 2 thuật toán để chuyển đổi một số tự nhiên bất kỳ thành biểu diễn nhị phân của nó. Bạn có thể tham khảo tại [đây](https://www.wikihow.vn/%C4%90%E1%BB%95i-t%E1%BB%AB-S%E1%BB%91-Th%E1%BA%ADp-ph%C3%A2n-sang-Nh%E1%BB%8B-ph%C3%A2n)."
      ]
    },
    {
      "cell_type": "markdown",
      "metadata": {
        "id": "9LSz9h9SVUNE",
        "colab_type": "text"
      },
      "source": [
        "**Câu 5** : Viết hàm để chuyển đổi một số tự nhiên thành biểu diễn nhị phân của nó."
      ]
    },
    {
      "cell_type": "code",
      "metadata": {
        "id": "DnwUpsT4OskJ",
        "colab_type": "code",
        "colab": {}
      },
      "source": [
        ""
      ],
      "execution_count": 0,
      "outputs": []
    },
    {
      "cell_type": "markdown",
      "metadata": {
        "id": "r16b2JFPXTLx",
        "colab_type": "text"
      },
      "source": [
        "**Câu 6** : Viết hàm để đếm số lượng các số $1$ trong biểu diễn nhị phân của 1 số."
      ]
    },
    {
      "cell_type": "code",
      "metadata": {
        "id": "Tj9_T7fvYDA9",
        "colab_type": "code",
        "colab": {}
      },
      "source": [
        ""
      ],
      "execution_count": 0,
      "outputs": []
    },
    {
      "cell_type": "markdown",
      "metadata": {
        "id": "M6k8QzA-Y5PC",
        "colab_type": "text"
      },
      "source": [
        "**Câu 7** : Viết hàm kiểm tra dạng biểu diễn nhị phân của một số có hồi văn (xuôi ngược như nhau) hay không?\n",
        "\n",
        "Ví dụ \n",
        "- $3 = \\overline{11}_2$, biểu diễn này hồi văn.\n",
        "- $4 = \\overline{100}_2$, biểu diễn này không hồi văn. "
      ]
    },
    {
      "cell_type": "code",
      "metadata": {
        "id": "B32Jn0rmZeOw",
        "colab_type": "code",
        "colab": {}
      },
      "source": [
        ""
      ],
      "execution_count": 0,
      "outputs": []
    }
  ]
}