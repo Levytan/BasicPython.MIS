{
 "cells": [
  {
   "cell_type": "markdown",
   "metadata": {},
   "source": [
    "# Nhập xuất căn bản"
   ]
  },
  {
   "cell_type": "markdown",
   "metadata": {},
   "source": [
    "**Câu 1** : Viết chương trình để nhập 2 số nguyên $a, b$ khác $0$ từ bàn phím, in ra tổng, hiệu, tích, thương của 2 số đó."
   ]
  },
  {
   "cell_type": "code",
   "execution_count": null,
   "metadata": {},
   "outputs": [],
   "source": []
  },
  {
   "cell_type": "markdown",
   "metadata": {},
   "source": [
    "**Câu 2** : Viết chương trình để nhập 1 số nguyên từ bàn phím, in ra số dư khi chia số đó cho 2, 3 và 5."
   ]
  },
  {
   "cell_type": "code",
   "execution_count": null,
   "metadata": {},
   "outputs": [],
   "source": []
  },
  {
   "cell_type": "markdown",
   "metadata": {},
   "source": [
    "**Câu 3** : Viết chương trình để nhập vào một số thực $r$, in ra màn hình diện tích $S$ của hình tròn có bán kính $r$. Biết rằng $S = \\pi r^2$ (các bạn lấy $\\pi = 3.14$)."
   ]
  },
  {
   "cell_type": "code",
   "execution_count": null,
   "metadata": {},
   "outputs": [],
   "source": []
  },
  {
   "cell_type": "markdown",
   "metadata": {},
   "source": [
    "**Câu 4** : Viết chương trình in ra màn hình chữ M như sau\n",
    "```\n",
    "*     *\n",
    "**   **\n",
    "* * * *\n",
    "*  *  *\n",
    "*     *\n",
    "*     *\n",
    "```"
   ]
  },
  {
   "cell_type": "code",
   "execution_count": null,
   "metadata": {},
   "outputs": [],
   "source": []
  },
  {
   "cell_type": "markdown",
   "metadata": {},
   "source": [
    "# Làm việc với `str`"
   ]
  },
  {
   "cell_type": "markdown",
   "metadata": {},
   "source": [
    "**Câu 5** : Viết chương trình nhập vào một chuỗi, in ra 2 ký tự đầu tiên và 2 ký tự cuối cùng của chuỗi đó."
   ]
  },
  {
   "cell_type": "code",
   "execution_count": null,
   "metadata": {},
   "outputs": [],
   "source": []
  },
  {
   "cell_type": "markdown",
   "metadata": {},
   "source": [
    "**Câu 6** : Viết chương trình nhập vào 1 chuỗi, in ra độ dài của chuỗi đó."
   ]
  },
  {
   "cell_type": "code",
   "execution_count": null,
   "metadata": {},
   "outputs": [],
   "source": []
  },
  {
   "cell_type": "markdown",
   "metadata": {},
   "source": [
    "**Câu 7** : Viết chương trình nhập vào 1 chuỗi, in ra chuỗi in hoa từ chuỗi đó."
   ]
  },
  {
   "cell_type": "code",
   "execution_count": null,
   "metadata": {},
   "outputs": [],
   "source": []
  },
  {
   "cell_type": "markdown",
   "metadata": {},
   "source": [
    "# Cấu trúc rẽ nhánh `if ... else`"
   ]
  },
  {
   "cell_type": "markdown",
   "metadata": {},
   "source": [
    "**Câu 8** : Nhập vào số nguyên $y > 0$. Kiểm tra năm $y$ có phải là năm nhuận hay không? "
   ]
  },
  {
   "cell_type": "code",
   "execution_count": null,
   "metadata": {},
   "outputs": [],
   "source": []
  },
  {
   "cell_type": "markdown",
   "metadata": {},
   "source": [
    "**Câu 9** : Viết chương trình nhập vào 3 số $a, b, c > 0$. Kiểm tra xem 3 số nguyên đó có phải là độ dài 3 cạnh 1 tam giác hay không?"
   ]
  },
  {
   "cell_type": "code",
   "execution_count": null,
   "metadata": {},
   "outputs": [],
   "source": []
  },
  {
   "cell_type": "markdown",
   "metadata": {},
   "source": [
    "**Câu 10** : Viết chương trình nhập vào 3 số $a, b, c$ $(a \\neq 0)$. In ra màn hình số nghiệm của phương trình bậc hai $ax^2 + bx + c = 0$"
   ]
  },
  {
   "cell_type": "code",
   "execution_count": null,
   "metadata": {},
   "outputs": [],
   "source": []
  }
 ],
 "metadata": {
  "kernelspec": {
   "display_name": "Python 3",
   "language": "python",
   "name": "python3"
  },
  "language_info": {
   "codemirror_mode": {
    "name": "ipython",
    "version": 3
   },
   "file_extension": ".py",
   "mimetype": "text/x-python",
   "name": "python",
   "nbconvert_exporter": "python",
   "pygments_lexer": "ipython3",
   "version": "3.7.2"
  }
 },
 "nbformat": 4,
 "nbformat_minor": 2
}
