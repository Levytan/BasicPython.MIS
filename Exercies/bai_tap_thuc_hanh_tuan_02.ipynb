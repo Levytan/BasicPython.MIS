{
  "nbformat": 4,
  "nbformat_minor": 0,
  "metadata": {
    "colab": {
      "name": "loop_exercise",
      "provenance": []
    },
    "kernelspec": {
      "name": "python3",
      "display_name": "Python 3"
    }
  },
  "cells": [
    {
      "cell_type": "markdown",
      "metadata": {
        "id": "9VWmJ5aChQBE",
        "colab_type": "text"
      },
      "source": [
        "**Câu 1** : Viết chương trình in ra các số tự nhiên nhỏ hơn 20 mà không chia hết cho 3."
      ]
    },
    {
      "cell_type": "code",
      "metadata": {
        "id": "aM6ZMJO6hNu_",
        "colab_type": "code",
        "colab": {}
      },
      "source": [
        ""
      ],
      "execution_count": 0,
      "outputs": []
    },
    {
      "cell_type": "markdown",
      "metadata": {
        "id": "tzNEOBj1hbgn",
        "colab_type": "text"
      },
      "source": [
        "**Câu 2** : Viết chương trình in ra các số theo thứ tự giảm dần từ 10 về 1."
      ]
    },
    {
      "cell_type": "code",
      "metadata": {
        "id": "Ce5Ogi_UiurH",
        "colab_type": "code",
        "colab": {}
      },
      "source": [
        ""
      ],
      "execution_count": 0,
      "outputs": []
    },
    {
      "cell_type": "markdown",
      "metadata": {
        "id": "uxGiQzKrizn0",
        "colab_type": "text"
      },
      "source": [
        "**Câu 3** : Viết chương trình nhập vào một số tự nhiên nhỏ hơn 10, in ra bảng cửu chương tương ứng với số đó.\n",
        "\n",
        "Ví dụ : nhập vào số 5, in ra\n",
        "\n",
        "$\n",
        "\\begin{matrix}\n",
        "&5 &\\times &1 &= &5 \\\\\n",
        "&5 &\\times &2 &= &10 \\\\\n",
        "&5 &\\times &3 &= &15 \\\\\n",
        "&5 &\\times &4 &= &20 \\\\\n",
        "&5 &\\times &5 &= &25 \\\\\n",
        "&5 &\\times &6 &= &30 \\\\\n",
        "&5 &\\times &7 &= &35 \\\\\n",
        "&5 &\\times &8 &= &40 \\\\\n",
        "&5 &\\times &9 &= &45 \\\\\n",
        "&5 &\\times &10 &= &50 \\\\\n",
        "\\end{matrix}\n",
        "$"
      ]
    },
    {
      "cell_type": "code",
      "metadata": {
        "id": "IfYc0FzQxN5E",
        "colab_type": "code",
        "colab": {}
      },
      "source": [
        ""
      ],
      "execution_count": 0,
      "outputs": []
    },
    {
      "cell_type": "markdown",
      "metadata": {
        "id": "Rock2doVkcri",
        "colab_type": "text"
      },
      "source": [
        "**Câu 4** : Viết chương trình nhập vào một số dương, tính tổng các số chia hết cho 3 nhỏ hơn số nhập vào."
      ]
    },
    {
      "cell_type": "code",
      "metadata": {
        "id": "aomRB6vXkZxA",
        "colab_type": "code",
        "colab": {}
      },
      "source": [
        ""
      ],
      "execution_count": 0,
      "outputs": []
    },
    {
      "cell_type": "markdown",
      "metadata": {
        "id": "9bwnzfO0k3Hg",
        "colab_type": "text"
      },
      "source": [
        "**Câu 5** : Viết chương trình nhập vào một số $n \\geq 0$, in ra số $n!$. Biết rằng $n! = 1 \\times 2 \\times \\cdots \\times n$ và quy ước $0! = 1$."
      ]
    },
    {
      "cell_type": "code",
      "metadata": {
        "id": "5X0weOGvllp_",
        "colab_type": "code",
        "colab": {}
      },
      "source": [
        ""
      ],
      "execution_count": 0,
      "outputs": []
    },
    {
      "cell_type": "markdown",
      "metadata": {
        "id": "uvun4048loqU",
        "colab_type": "text"
      },
      "source": [
        "**Câu 6** : Viết chương trình để in ra màn hình giống như sau:\n",
        "\n",
        "$\n",
        "\\begin{matrix}\n",
        "&1 \\\\\n",
        "&2 &2 \\\\\n",
        "&3 &3 &3 \\\\\n",
        "&4 &4 &4 &4 \\\\\n",
        "&5 &5 &5 &5 &5 \\\\ \n",
        "\\end{matrix}\n",
        "$"
      ]
    },
    {
      "cell_type": "code",
      "metadata": {
        "id": "-j016oOGn6C-",
        "colab_type": "code",
        "colab": {}
      },
      "source": [
        ""
      ],
      "execution_count": 0,
      "outputs": []
    },
    {
      "cell_type": "markdown",
      "metadata": {
        "id": "SKSBAyBFoGrT",
        "colab_type": "text"
      },
      "source": [
        "**Câu 7** : Viết chương trình nhập vào 2 số $a, b$. In ra màn hình hình chữ nhật có chiều dài $a$ và chiều rộng $b$.\n",
        "\n",
        "Ví dụ : nếu nhập vào $a = 4, b = 3$ thì in ra\n",
        "\n",
        "$\n",
        "\\begin{matrix}\n",
        "&\\star &\\star &\\star &\\star \\\\\n",
        "&\\star &\\star &\\star &\\star \\\\\n",
        "&\\star &\\star &\\star &\\star \\\\\n",
        "\\end{matrix}\n",
        "$"
      ]
    },
    {
      "cell_type": "code",
      "metadata": {
        "id": "zir0JzH5o_ZG",
        "colab_type": "code",
        "colab": {}
      },
      "source": [
        ""
      ],
      "execution_count": 0,
      "outputs": []
    },
    {
      "cell_type": "markdown",
      "metadata": {
        "id": "9_j9J7DtpH8K",
        "colab_type": "text"
      },
      "source": [
        "**Câu 8** : Trong toán học có một bài toán thú vị tên là Phỏng đoán Collatz.\n",
        "\n",
        "> Cho số tự nhiên $n > 0$ :\n",
        "- Nếu $n$ là số chẵn thì chia nó cho $2$.\n",
        "- Nếu $n$ là số lẻ thì nhân nó cho $3$ rồi cộng thêm $1$.\n",
        "- Tiếp tục thực hiện các việc trên với số mới nhận được.\n",
        "\n",
        "Phỏng đoán Collatz nói rằng nếu thực hiện quy trình trên bạn sẽ luôn đi đến 1. Cho đến nay, chưa ai chứng minh được phỏng đoán này.\n",
        "\n",
        "Ví dụ : \n",
        "\n",
        "- $n = 3$, ta có dãy $3 \\rightarrow 10 \\rightarrow 5 \\rightarrow 16 \\rightarrow 8 \\rightarrow 4 \\rightarrow 2 \\rightarrow 1$.\n",
        "- $n = 7$, ta có dãy $7 \\rightarrow 22 \\rightarrow 11 \\rightarrow 34 \\rightarrow 17 \\rightarrow 52 \\rightarrow 26 \\rightarrow 13 \\rightarrow 40 \\rightarrow 20 \\rightarrow 10 \\rightarrow 5 \\rightarrow 16 \\rightarrow 8 \\rightarrow 4 \\rightarrow 2 \\rightarrow 1$.\n",
        "\n",
        "Viết chương trình nhập vào một số tự nhiên $n \\leq 1000000000$, in ra số các bước phải thực hiện để đi đến 1. Ví dụ $n = 3$ thì in ra 7, $n = 7$ thì in ra 16."
      ]
    },
    {
      "cell_type": "code",
      "metadata": {
        "id": "tRek4zoGsHr1",
        "colab_type": "code",
        "colab": {}
      },
      "source": [
        ""
      ],
      "execution_count": 0,
      "outputs": []
    },
    {
      "cell_type": "markdown",
      "metadata": {
        "id": "Q5eqL_AEvNFH",
        "colab_type": "text"
      },
      "source": [
        "**Câu 9** : Viết chương trình nhập vào một số tự nhiên lớn hơn 0 và in ra tổng các ước của nó. Chú thích : $a$ được gọi là ước của $b$ nếu $b$ chia hết cho $a$."
      ]
    },
    {
      "cell_type": "code",
      "metadata": {
        "id": "rQ8v1bGYwIRr",
        "colab_type": "code",
        "colab": {}
      },
      "source": [
        ""
      ],
      "execution_count": 0,
      "outputs": []
    },
    {
      "cell_type": "markdown",
      "metadata": {
        "id": "m8y0paX42mhb",
        "colab_type": "text"
      },
      "source": [
        "**Câu 10** : Vào một này đẹp trời, bạn được triệu hồi đến vương quốc nọ để tiêu diệt quỷ vương bằng thanh kiếm báu Excalibur. Tuy nhiên, có lẽ vì cất trong kho quá lâu, bạn không thể sử dụng toàn bộ sức mạnh của Excalibur.\n",
        "\n",
        "Hãy viết chương trình mô phỏng quá trình chiến đấu với quỷ vương của bạn, biết rằng :\n",
        "- Bạn chỉ có 3 lượt tấn công.\n",
        "- Quỷ vương có 300 máu.\n",
        "- Mỗi lần tấn công, sức mạnh của Excalibur là một số ngẫu nhiên trong khoảng 80 đến 120.\n",
        "\n",
        "Yêu cầu :\n",
        "- Với mỗi lần tấn công, bạn in ra câu `Bạn gây được x sát thương, quỷ vương còn y máu`.\n",
        "- Sau lần tấn công cuối cùng :\n",
        "    - In ra câu : `Chúc bạn may mắn lần sau!` nếu quỷ vương vẫn còn máu.\n",
        "    - In ra câu : `Tuyệt vời! Bạn đã tiêu diệt thành công quỷ vương!` \n",
        "\n"
      ]
    },
    {
      "cell_type": "code",
      "metadata": {
        "id": "8S_4UPCZ7bNq",
        "colab_type": "code",
        "colab": {
          "base_uri": "https://localhost:8080/",
          "height": 68
        },
        "outputId": "58903ae0-085d-420d-8fb0-5f4b145a431a"
      },
      "source": [
        "# đây là code mẫu trong trường hợp :\n",
        "# - Bạn tấn công 1 lần duy nhất.\n",
        "# - Quỷ vương có 100 máu.\n",
        "# - Mỗi lần tấn công, sức mạnh của Excalibur là một số ngẫu nhiên trong khoảng 75 đến 110.\n",
        "\n",
        "# gọi hàm sinh số ngẫu nhiên\n",
        "from random import randint\n",
        "\n",
        "# máu ban đầu của quỷ vương\n",
        "mau_quy_vuong = 100 \n",
        "print(f'Bắt đầu chiến đấu! Quỷ vương có {mau_quy_vuong} máu.')\n",
        "\n",
        "# sức tấn công là số ngẫu nhiên từ 75 đến 110\n",
        "tan_cong = randint(75, 110) \n",
        "\n",
        "# máu sau khi tấn công bằng máu trước khi tấn công trừ đi sức tấn công\n",
        "# nếu sức tấn công lớn hơn máu thì máu về 0\n",
        "mau_quy_vuong = mau_quy_vuong - tan_cong if mau_quy_vuong > tan_cong else 0\n",
        "\n",
        "print(f'Bạn gây ra {tan_cong} sát thương, quỷ vương còn {mau_quy_vuong} máu.')\n",
        "\n",
        "if mau_quy_vuong > 0 :\n",
        "    print('Thôi rồi còn đâu em ơi!')\n",
        "else : \n",
        "    print('GG!')"
      ],
      "execution_count": 3,
      "outputs": [
        {
          "output_type": "stream",
          "text": [
            "Bắt đầu chiến đấu! Quỷ vương có 100 máu.\n",
            "Bạn gây ra 91 sát thương, quỷ vương còn 9 máu.\n",
            "Chúc bạn may mắn lần sau!\n"
          ],
          "name": "stdout"
        }
      ]
    },
    {
      "cell_type": "code",
      "metadata": {
        "id": "n-FXF7flBht0",
        "colab_type": "code",
        "colab": {}
      },
      "source": [
        ""
      ],
      "execution_count": 0,
      "outputs": []
    }
  ]
}