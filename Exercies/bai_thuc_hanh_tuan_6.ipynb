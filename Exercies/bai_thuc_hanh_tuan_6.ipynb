{
  "nbformat": 4,
  "nbformat_minor": 0,
  "metadata": {
    "colab": {
      "name": "bai_thuc_hanh_tuan_6",
      "provenance": [],
      "collapsed_sections": []
    },
    "kernelspec": {
      "name": "python3",
      "display_name": "Python 3"
    }
  },
  "cells": [
    {
      "cell_type": "markdown",
      "metadata": {
        "id": "fvmibtcGVE08",
        "colab_type": "text"
      },
      "source": [
        "**Câu 1** : Viết hàm để tính số thứ $n$ của dãy Fibonacci dựa vào công thức sau :\n",
        "\n",
        "$\n",
        "F_n = \\frac{1}{\\sqrt{5}}\\left(\\left(\\frac{1 + \\sqrt{5}}{2}\\right)^n - \\left(\\frac{1 - \\sqrt{5}}{2}\\right)^n\\right), \\forall n \\in \\mathbb{N}\n",
        "$"
      ]
    },
    {
      "cell_type": "code",
      "metadata": {
        "id": "FzuVJQSIVAsL",
        "colab_type": "code",
        "colab": {}
      },
      "source": [
        ""
      ],
      "execution_count": 0,
      "outputs": []
    },
    {
      "cell_type": "markdown",
      "metadata": {
        "id": "CqxnEBE2kDdc",
        "colab_type": "text"
      },
      "source": [
        "**Câu 2** : Viết hàm trả về thập kỷ của năm truyền vào. Ví dụ : năm 2019 là thập kỷ 2010, năm 2020 là thập kỷ 2020."
      ]
    },
    {
      "cell_type": "code",
      "metadata": {
        "id": "jFJaF_zKkZwa",
        "colab_type": "code",
        "colab": {}
      },
      "source": [
        ""
      ],
      "execution_count": 0,
      "outputs": []
    },
    {
      "cell_type": "markdown",
      "metadata": {
        "id": "42U1l6GIyeSV",
        "colab_type": "text"
      },
      "source": [
        "**Câu 3** : Viết hàm để kiểm tra số tự nhiên $n$ có phải là số nguyên tố và dùng hàm đó in ra 20 số nguyên tố đầu tiên.\n"
      ]
    },
    {
      "cell_type": "code",
      "metadata": {
        "id": "Y4N235zuL6tF",
        "colab_type": "code",
        "colab": {}
      },
      "source": [
        ""
      ],
      "execution_count": 0,
      "outputs": []
    },
    {
      "cell_type": "markdown",
      "metadata": {
        "id": "NxEJ9FCrMTj0",
        "colab_type": "text"
      },
      "source": [
        "**Câu 4** : Viết hàm để kiểm tra ba số $a, b, c$ có phải là độ dài 3 cạnh của 1 tam giác hay không. Trong trường hợp đúng là độ dài ba cạnh của 1 tam giác, trả về thêm hình dạng của nó (nhọn, vuông, tù).\n",
        "\n",
        "---\n",
        "Gợi ý :\n",
        "Giả sử $\\Delta ABC$ có ba cạnh lần lượt là $x, y, z$ và $x$ là cạnh dài nhất. Đặt, \n",
        "\n",
        "$\\omega = \\frac{y^2 + z^2 - x^2}{2yz}$\n",
        "\n",
        "Nếu :\n",
        "- $\\omega > 0$, $\\Delta ABC$ là tam giác nhọn.\n",
        "- $\\omega = 0$, $\\Delta ABC$ là tam giác vuông.\n",
        "- $\\omega < 0$, $\\Delta ABC$ là tam giác tù."
      ]
    },
    {
      "cell_type": "code",
      "metadata": {
        "id": "gmOqQq9TOnRl",
        "colab_type": "code",
        "colab": {}
      },
      "source": [
        ""
      ],
      "execution_count": 0,
      "outputs": []
    }
  ]
}