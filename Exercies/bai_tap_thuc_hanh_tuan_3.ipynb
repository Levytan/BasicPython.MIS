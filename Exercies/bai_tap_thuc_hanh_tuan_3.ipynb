{
  "nbformat": 4,
  "nbformat_minor": 0,
  "metadata": {
    "colab": {
      "name": "bai_tap_thuc_hanh_tuan_3",
      "provenance": [],
      "collapsed_sections": []
    },
    "kernelspec": {
      "name": "python3",
      "display_name": "Python 3"
    }
  },
  "cells": [
    {
      "cell_type": "markdown",
      "metadata": {
        "id": "1mZFpCxspbEz",
        "colab_type": "text"
      },
      "source": [
        "**Câu 1** : Cho một `list` các số nguyên, hãy tạo ra một `dictionary` từ `list` đã cho chứa sô lần xuất hiện của các phần tử trong `list`.\n",
        "\n",
        "Ví dụ : từ `list` `[1, 1, 2, 3]` tạo ra `dictionay` `{1 : 2, 2 : 1, 3 : 1}`."
      ]
    },
    {
      "cell_type": "code",
      "metadata": {
        "id": "DucvWMBdpWag",
        "colab_type": "code",
        "colab": {}
      },
      "source": [
        ""
      ],
      "execution_count": 0,
      "outputs": []
    },
    {
      "cell_type": "markdown",
      "metadata": {
        "id": "Kz93-J93qv6i",
        "colab_type": "text"
      },
      "source": [
        "**Câu 2** : Nhập vào 2 số tự nhiên $a, b > 0$, viết chương trình in ra ước chung lớn nhất của hai số đó.\n",
        "\n",
        "---\n",
        "_Gợi ý_ : Giả sử $a > b$ thì $UCLN(a, b) = UCLN(a - b, b)$"
      ]
    },
    {
      "cell_type": "code",
      "metadata": {
        "id": "OUcX-ng-si-J",
        "colab_type": "code",
        "colab": {}
      },
      "source": [
        ""
      ],
      "execution_count": 0,
      "outputs": []
    },
    {
      "cell_type": "markdown",
      "metadata": {
        "id": "_aWePctMs2Qh",
        "colab_type": "text"
      },
      "source": [
        "**Câu 3** : Viết chương trình tạo `dictionary` sau bằng vòng lặp `for ... in ...` : `{1 : 1, 2 : 8, 3 : 27, ..., 10 : 1000}`"
      ]
    },
    {
      "cell_type": "code",
      "metadata": {
        "id": "jKj8dV_rtZwj",
        "colab_type": "code",
        "colab": {}
      },
      "source": [
        ""
      ],
      "execution_count": 0,
      "outputs": []
    },
    {
      "cell_type": "markdown",
      "metadata": {
        "id": "qBIUUvwXtbL5",
        "colab_type": "text"
      },
      "source": [
        "**Câu 4** : Viết chương trình nhập vào một chuỗi, tạo một `dictionary` là số lần xuất hiện của các ký tự trong chuỗi.\n",
        "\n",
        "Ví dụ : nhập chuỗi `'Hello'` tao ra `dictionary` `{'H' : 1, 'e' : 1, 'l' : 2, 'o' : 1}`."
      ]
    },
    {
      "cell_type": "code",
      "metadata": {
        "id": "7aj_eDufuqYk",
        "colab_type": "code",
        "colab": {}
      },
      "source": [
        ""
      ],
      "execution_count": 0,
      "outputs": []
    },
    {
      "cell_type": "markdown",
      "metadata": {
        "id": "PKdLAQJHuzqD",
        "colab_type": "text"
      },
      "source": [
        "**Câu 5** : Viết chương trình nhập để giải bài toán sau :\n",
        "> Vừa gà vừa chó. Bó lại cho tròn. Ba mươi sáu con. Một trăm chân chẵn."
      ]
    },
    {
      "cell_type": "code",
      "metadata": {
        "id": "kDTS3iZ7wOQk",
        "colab_type": "code",
        "colab": {}
      },
      "source": [
        ""
      ],
      "execution_count": 0,
      "outputs": []
    },
    {
      "cell_type": "markdown",
      "metadata": {
        "id": "blI16eAAwNc5",
        "colab_type": "text"
      },
      "source": [
        "**Câu 6** : Viết chương trình in ra màn hình các số từ 1 đến 10, tuy nhiên, nếu gặp số chia hết cho 3 thì phải in ra tên của số đó. Tức là, bạn phải in ra :\n",
        "> 1\n",
        "\n",
        "> 2\n",
        "\n",
        "> 'ba'\n",
        "\n",
        "> 4\n",
        "\n",
        "> 5\n",
        "\n",
        "> 'sáu'\n",
        "\n",
        "> 7\n",
        "\n",
        "> 8\n",
        "\n",
        "> 'chín'\n",
        "\n",
        "> 10\n",
        "\n",
        "---\n",
        "_Gợi ý_ : bạn có thể dùng `dictionary` `{3 : 'ba', 6 : 'sáu', 9 : 'chín'}`."
      ]
    },
    {
      "cell_type": "code",
      "metadata": {
        "id": "U_4Y0CAzvao6",
        "colab_type": "code",
        "colab": {}
      },
      "source": [
        ""
      ],
      "execution_count": 0,
      "outputs": []
    },
    {
      "cell_type": "markdown",
      "metadata": {
        "id": "yW5MLi1U0pAx",
        "colab_type": "text"
      },
      "source": [
        "**Câu 7** : Viết chương trình nhập vào số năm dương lịch, in ra tên năm âm lịch tương ứng. Biết rằng năm 1 là năm Tân Dậu."
      ]
    },
    {
      "cell_type": "code",
      "metadata": {
        "id": "6focfwWD2t5F",
        "colab_type": "code",
        "colab": {}
      },
      "source": [
        ""
      ],
      "execution_count": 0,
      "outputs": []
    },
    {
      "cell_type": "markdown",
      "metadata": {
        "id": "Rus92WKK2xMO",
        "colab_type": "text"
      },
      "source": [
        "**Câu 8** : Hỡi các người hùng, sau khi tiêu diệt được quỷ vương, đây là thử thách tiếp theo của các bạn : đại ma vương.\n",
        "\n",
        "Hãy viết chương trình mô phỏng lại quá trình chiến đấu với đại ma vương, biết rằng :\n",
        "- Đây là cuộc chiến sinh tử, chỉ dừng lại khi một trong hai bên hết máu.\n",
        "- Bạn là người tấn công đầu tiên, sau đó đến đại ma vương, rồi quay lại bạn.\n",
        "- Đại ma vương có 500 máu, còn bạn chỉ có 350 máu.\n",
        "- Sức tấn công của bạn là 90 - 120, sức tấn công của đại ma vương là 80 - 100.\n",
        "- Bạn có một kỹ năng tên là 'Ý trời' : tung một con xúc xắc, nếu mặt chẵn thì tăng 50% sát thương, nếu mặt lẻ thì không có gì xảy ra (dùng `randint(1, 6)` để mô phỏng việc tung xúc xắc). Kỹ năng này luôn được kích hoạt trước khi bạn tấn công.\n",
        "\n",
        "Yêu cầu : \n",
        "- Sau mỗi lần bạn tấn công, in ra câu `Bạn gây được X sát thương, đại ma vương còn y máu.`. \n",
        "- Tương tự, sau mỗi lần đại ma vương tấn công, in ra câu `Đại ma vương gây Z sát thương, bạn còn T máu.`.\n",
        "- Tùy vào người hết máu trước mà in ra câu phù hợp."
      ]
    },
    {
      "cell_type": "code",
      "metadata": {
        "id": "Za5tZfiS_Pwi",
        "colab_type": "code",
        "colab": {}
      },
      "source": [
        ""
      ],
      "execution_count": 0,
      "outputs": []
    }
  ]
}