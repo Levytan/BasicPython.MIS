{
 "cells": [
  {
   "cell_type": "markdown",
   "metadata": {
    "colab_type": "text",
    "id": "IcHsFyknNGau",
    "slideshow": {
     "slide_type": "slide"
    }
   },
   "source": [
    "# Giới thiệu\n",
    "Trong việc lập trình, chúng ta thường gặp phải vấn đề phải thực hiện một hành động lặp đi lặp lại, chẳng hạn như việc tính tổng $S = 1 + 2 + 3 + ... + 100$."
   ]
  },
  {
   "cell_type": "markdown",
   "metadata": {
    "colab_type": "text",
    "id": "P-76FiVqRV3A",
    "slideshow": {
     "slide_type": "subslide"
    }
   },
   "source": [
    "Trong lập trình, người ta sử dụng cấu trúc lặp để chỉ cho máy tính biết phải thực hiện một hành động lặp đi lặp lại."
   ]
  },
  {
   "cell_type": "markdown",
   "metadata": {
    "colab_type": "text",
    "id": "ryb7CCMoTGNv",
    "slideshow": {
     "slide_type": "subslide"
    }
   },
   "source": [
    "Sơ đồ của cấu trúc lặp như sau :\n",
    "\n",
    "![Fig1](https://i.imgur.com/KSqYtQb.png)"
   ]
  },
  {
   "cell_type": "markdown",
   "metadata": {
    "colab_type": "text",
    "id": "TRZ4ptBFU9I1",
    "slideshow": {
     "slide_type": "slide"
    }
   },
   "source": [
    "Ví dụ như trong việc tính tổng ở trên, bạn có thể thực hiện nó theo cách sau :\n",
    "1. Cho biến `i` bằng 0, cho biến `S` bằng 0.\n",
    "2. Nếu `i` > 100, kết thúc vòng lặp.\n",
    "3. Gán `S` mới bằng `S` cũ cộng thêm i, tăng biến i thêm 1 rồi quay lại bước 2.\n",
    "4. Xuất ra kết quả."
   ]
  },
  {
   "cell_type": "markdown",
   "metadata": {
    "colab_type": "text",
    "id": "_6CgrmTIV2v8",
    "slideshow": {
     "slide_type": "slide"
    }
   },
   "source": [
    "Tùy thuộc vào việc bạn có thể tính được số lần lặp từ điều kiện lặp hay không, người ta chia ra làm 2 cấu trúc lặp :\n",
    "- Lặp theo số lần biết trước.\n",
    "- Lặp theo điều kiện."
   ]
  },
  {
   "cell_type": "markdown",
   "metadata": {
    "colab_type": "text",
    "id": "hIi2dgn0YGcq",
    "slideshow": {
     "slide_type": "slide"
    }
   },
   "source": [
    "# Lặp theo số lần biết trước trong python"
   ]
  },
  {
   "cell_type": "markdown",
   "metadata": {
    "colab_type": "text",
    "id": "LTtYqLyW5PCP",
    "slideshow": {
     "slide_type": "slide"
    }
   },
   "source": [
    "## Cấu trúc cơ bản"
   ]
  },
  {
   "cell_type": "markdown",
   "metadata": {
    "colab_type": "text",
    "id": "7f1jBgUAkdl4",
    "slideshow": {
     "slide_type": "subslide"
    }
   },
   "source": [
    "Để lặp lại một hành động nào đó với số lần là biết trước, bạn dùng cú pháp sau :\n",
    "```\n",
    "for <biến_đếm> in range(<số_lần_lặp>):\n",
    "    <hành_động>\n",
    "```\n",
    "Trong đó :\n",
    "- `biến_đếm` chỉ cần khai báo lúc viết vòng `for`.\n",
    "- `hành_động` có thể phụ thuộc vào `biến_đếm` hoặc không.\n"
   ]
  },
  {
   "cell_type": "markdown",
   "metadata": {
    "colab_type": "text",
    "id": "Wo1U8K_93L5q",
    "slideshow": {
     "slide_type": "subslide"
    }
   },
   "source": [
    "Cú pháp trên sẽ thực hiện các hành động sau :\n",
    "1. Gán `biến_đếm` bằng 0.\n",
    "2. Thực hiện `hành_động`.\n",
    "3. Tăng `biến_đếm` thêm 1 đơn vị. Nếu `biến_đếm` bằng số lần lặp thì dừng lại, nếu không quay lại bước 2."
   ]
  },
  {
   "cell_type": "code",
   "execution_count": 0,
   "metadata": {
    "colab": {
     "base_uri": "https://localhost:8080/",
     "height": 357
    },
    "colab_type": "code",
    "id": "drQN8lX7U8b4",
    "outputId": "a9bc0dd6-86e0-41f0-d98b-4c0c20d096ab",
    "slideshow": {
     "slide_type": "subslide"
    }
   },
   "outputs": [
    {
     "name": "stdout",
     "output_type": "stream",
     "text": [
      "Hello World!\n",
      "\n",
      "Hello World!\n",
      "\n",
      "Hello World!\n",
      "\n",
      "Hello World!\n",
      "\n",
      "Hello World!\n",
      "\n",
      "Hello World!\n",
      "\n",
      "Hello World!\n",
      "\n",
      "Hello World!\n",
      "\n",
      "Hello World!\n",
      "\n",
      "Hello World!\n",
      "\n"
     ]
    }
   ],
   "source": [
    "# in câu `Hello World!` 10 lần\n",
    "# đây là hành động không phụ thuộc vào biến đếm\n",
    "for i in range(10):\n",
    "    print('Hello World!\\n')"
   ]
  },
  {
   "cell_type": "code",
   "execution_count": 4,
   "metadata": {
    "slideshow": {
     "slide_type": "subslide"
    }
   },
   "outputs": [
    {
     "name": "stdout",
     "output_type": "stream",
     "text": [
      "0\n",
      "1\n",
      "2\n",
      "3\n",
      "4\n"
     ]
    }
   ],
   "source": [
    "for k in range(5) :\n",
    "    print(k)"
   ]
  },
  {
   "cell_type": "code",
   "execution_count": 0,
   "metadata": {
    "colab": {
     "base_uri": "https://localhost:8080/",
     "height": 34
    },
    "colab_type": "code",
    "id": "n336goTC9bcI",
    "outputId": "942e05df-5887-422e-df26-3081ebf32fa5",
    "slideshow": {
     "slide_type": "subslide"
    }
   },
   "outputs": [
    {
     "name": "stdout",
     "output_type": "stream",
     "text": [
      "5050\n"
     ]
    }
   ],
   "source": [
    "# tính tổng S = 1 + 2 + 3 + ... + 100\n",
    "# đây là hành động phụ thuộc vào biến đếm\n",
    "S = 0\n",
    "for i in range(101):\n",
    "    S = S + i\n",
    "print(S)"
   ]
  },
  {
   "cell_type": "markdown",
   "metadata": {
    "colab_type": "text",
    "id": "FyCYmWVY4yRs",
    "slideshow": {
     "slide_type": "slide"
    }
   },
   "source": [
    "## Hàm `range()`"
   ]
  },
  {
   "cell_type": "markdown",
   "metadata": {
    "colab_type": "text",
    "id": "boZsrgg35XSU",
    "slideshow": {
     "slide_type": "subslide"
    }
   },
   "source": [
    "Hàm `range()` thường được dùng để tạo một đối tượng đếm cho vòng `for`.\n",
    "\n",
    "Dạng đầy đủ của hàm `range()` là :\n",
    "```\n",
    "range([bắt_đầu], <kết_thúc>, [bước_nhảy])\n",
    "```\n",
    "Trong đó :\n",
    "- `bắt_đầu`, `kết_thúc` và `bước_nhảy` là số nguyên.\n",
    "- Có thể bỏ qua `bắt_đầu`, python sẽ hiểu là `bắt_đầu` là 0.\n",
    "- Có thể bỏ qua `bước_nhảy`, python sẽ hiểu là `bước_nhảy` là 1."
   ]
  },
  {
   "cell_type": "code",
   "execution_count": 0,
   "metadata": {
    "colab": {
     "base_uri": "https://localhost:8080/",
     "height": 102
    },
    "colab_type": "code",
    "id": "EcztXW2X4ml0",
    "outputId": "ec5a2bb7-7b76-4b2a-a7f9-22d4b6f62d70",
    "slideshow": {
     "slide_type": "subslide"
    }
   },
   "outputs": [
    {
     "name": "stdout",
     "output_type": "stream",
     "text": [
      "1\n",
      "3\n",
      "5\n",
      "7\n",
      "9\n"
     ]
    }
   ],
   "source": [
    "# bước nhảy dương\n",
    "for i in range(1, 10, 2) :\n",
    "    print(i)"
   ]
  },
  {
   "cell_type": "code",
   "execution_count": 0,
   "metadata": {
    "colab": {
     "base_uri": "https://localhost:8080/",
     "height": 102
    },
    "colab_type": "code",
    "id": "bsj9bvnf6-Ao",
    "outputId": "0b8cce06-e8eb-4aff-93d2-a6d6a10202d8",
    "slideshow": {
     "slide_type": "subslide"
    }
   },
   "outputs": [
    {
     "name": "stdout",
     "output_type": "stream",
     "text": [
      "10\n",
      "8\n",
      "6\n",
      "4\n",
      "2\n"
     ]
    }
   ],
   "source": [
    "# bước nhảy âm\n",
    "for i in range(10, 1, -2) :\n",
    "  print(i)"
   ]
  },
  {
   "cell_type": "markdown",
   "metadata": {
    "colab_type": "text",
    "id": "fImfNZjK-mUz",
    "slideshow": {
     "slide_type": "slide"
    }
   },
   "source": [
    "**Bài tập** : Viết chương trình tính tổng những số tự nhiên chia hết cho 3 và nhỏ hơn 1000."
   ]
  },
  {
   "cell_type": "markdown",
   "metadata": {
    "colab_type": "text",
    "id": "fgPbp_uL8raY",
    "slideshow": {
     "slide_type": "slide"
    }
   },
   "source": [
    "## Điểm khác biệt của vòng `for` python"
   ]
  },
  {
   "cell_type": "markdown",
   "metadata": {
    "colab_type": "text",
    "id": "Dsi80BSH9FUF",
    "slideshow": {
     "slide_type": "subslide"
    }
   },
   "source": [
    "Nói một cách chính xác, vòng `for` trong python có tác dụng lặp qua các phần tử của một tập hợp. Điều này sẽ được nói rõ hơn khi học bài kiểu dữ liệu danh sách."
   ]
  },
  {
   "cell_type": "markdown",
   "metadata": {
    "colab_type": "text",
    "id": "tFCNtI5a_IT8",
    "slideshow": {
     "slide_type": "slide"
    }
   },
   "source": [
    "# Lặp theo điều kiện trong python"
   ]
  },
  {
   "cell_type": "markdown",
   "metadata": {
    "colab_type": "text",
    "id": "_6kApZRd_VDu",
    "slideshow": {
     "slide_type": "subslide"
    }
   },
   "source": [
    "Bên cạnh việc lặp theo số lần biết trước, bạn còn có một cấu trúc để lặp theo điều kiện, tức là chừng nào điều kiện còn đúng thì bạn còn phải thực hiện hành động.\n",
    "\n",
    "Để thể hiện việc này trong python, bạn viết như sau :\n",
    "```\n",
    "while <điều_kiện> :\n",
    "    <hành_động>\n",
    "```"
   ]
  },
  {
   "cell_type": "code",
   "execution_count": 0,
   "metadata": {
    "colab": {
     "base_uri": "https://localhost:8080/",
     "height": 34
    },
    "colab_type": "code",
    "id": "ACDQGHZ58idY",
    "outputId": "2169d318-366d-470b-f60f-0b0fc086d835",
    "slideshow": {
     "slide_type": "subslide"
    }
   },
   "outputs": [
    {
     "name": "stdout",
     "output_type": "stream",
     "text": [
      "5050\n"
     ]
    }
   ],
   "source": [
    "# tính lại tổng S = 1 + 2 + 3 + ... + 100 bằng vòng while\n",
    "i = 0\n",
    "S = 0\n",
    "\n",
    "while i <= 100 :\n",
    "    S = S + i\n",
    "    i = i + 1\n",
    "\n",
    "print(S)"
   ]
  },
  {
   "cell_type": "markdown",
   "metadata": {
    "colab_type": "text",
    "id": "eZUnfD9ZBd8i",
    "slideshow": {
     "slide_type": "slide"
    }
   },
   "source": [
    "Lưu ý : Khi thực hiện vòng `while`, phải đảm bảo rằng vòng lặp phải kết thúc sau một số hữu hạn bước."
   ]
  },
  {
   "cell_type": "code",
   "execution_count": 0,
   "metadata": {
    "colab": {},
    "colab_type": "code",
    "id": "LbxTUO3wBGJu",
    "slideshow": {
     "slide_type": "subslide"
    }
   },
   "outputs": [],
   "source": [
    "# đừng chạy cái này nhé!\n",
    "while True :\n",
    "  print('Hello')"
   ]
  },
  {
   "cell_type": "markdown",
   "metadata": {
    "colab_type": "text",
    "id": "nUWBNg0qCh0N",
    "slideshow": {
     "slide_type": "slide"
    }
   },
   "source": [
    "**Bài tập** : Viết chương trình nhập vào một số. Nếu là số chẵn, in số đó ra, nếu là số lẻ, yêu cầu nhập lại."
   ]
  },
  {
   "cell_type": "markdown",
   "metadata": {
    "colab_type": "text",
    "id": "jNie__ZVF3FL",
    "slideshow": {
     "slide_type": "slide"
    }
   },
   "source": [
    "# Các từ khoá `break`, `continue`"
   ]
  },
  {
   "cell_type": "markdown",
   "metadata": {
    "colab_type": "text",
    "id": "aJe62ZhkGgfI",
    "slideshow": {
     "slide_type": "subslide"
    }
   },
   "source": [
    "Như các bạn có thể thấy trong sơ đồ trên, python sẽ thực hiện hành động cho đến khi điều kiện không được thoả. \n",
    "\n",
    "Tuy nhiên, trong một số trường hợp, bạn muốn chấm dứt hành động mà không cần kiểm tra điều kiện, chẳng hạn như :\n",
    "- Bạn tìm kiếm trong một tập hợp và bạn muốn chấm dứt vòng lặp khi tìm thấy.\n",
    "- Bạn muốn bỏ qua một số hành động khi gặp phải đối tượng nào đó.\n"
   ]
  },
  {
   "cell_type": "markdown",
   "metadata": {
    "colab_type": "text",
    "id": "AltMK5_6Hxcg",
    "slideshow": {
     "slide_type": "subslide"
    }
   },
   "source": [
    "Để thực hiện các điều trên, python có hai từ khoá là `break` và `continue`."
   ]
  },
  {
   "cell_type": "markdown",
   "metadata": {
    "colab_type": "text",
    "id": "vO3W5AViH7ae",
    "slideshow": {
     "slide_type": "slide"
    }
   },
   "source": [
    "## Từ khoá `break`\n",
    "Khi gặp từ khoá `break`, python sẽ lập tức thoát khỏi vòng lặp."
   ]
  },
  {
   "cell_type": "code",
   "execution_count": 0,
   "metadata": {
    "colab": {
     "base_uri": "https://localhost:8080/",
     "height": 153
    },
    "colab_type": "code",
    "id": "8-iJBcGbEWVj",
    "outputId": "e9de0b10-a49c-43e8-e56a-1e372c64e20c",
    "slideshow": {
     "slide_type": "subslide"
    }
   },
   "outputs": [
    {
     "name": "stdout",
     "output_type": "stream",
     "text": [
      "0\n",
      "1\n",
      "2\n",
      "3\n",
      "4\n",
      "5\n",
      "6\n",
      "Hết vòng lặp\n"
     ]
    }
   ],
   "source": [
    "# ví dụ break\n",
    "for i in range(10) :\n",
    "    print(i)\n",
    "    if i > 5 :\n",
    "        break\n",
    "print('Hết vòng lặp')"
   ]
  },
  {
   "cell_type": "markdown",
   "metadata": {
    "colab_type": "text",
    "id": "qlVdAqTUIqux",
    "slideshow": {
     "slide_type": "slide"
    }
   },
   "source": [
    "## Từ khoá `continue`\n",
    "Khi gặp từ khoá `continue`, python sẽ bỏ qua phần còn lại của vòng lặp, chỉ áp dụng cho lần lặp đang thực hiện. Vòng lặp vẫn sẽ được tiếp tục với giá trị kế tiếp."
   ]
  },
  {
   "cell_type": "code",
   "execution_count": 0,
   "metadata": {
    "colab": {
     "base_uri": "https://localhost:8080/",
     "height": 187
    },
    "colab_type": "code",
    "id": "WX5rp0YLImSS",
    "outputId": "447e987c-2274-4130-9fae-77f7852ad17c",
    "slideshow": {
     "slide_type": "subslide"
    }
   },
   "outputs": [
    {
     "name": "stdout",
     "output_type": "stream",
     "text": [
      "Cái này được in\n",
      "1\n",
      "Cái này được in\n",
      "3\n",
      "Cái này được in\n",
      "5\n",
      "Cái này được in\n",
      "7\n",
      "Cái này được in\n",
      "9\n"
     ]
    }
   ],
   "source": [
    "# ví dụ continue\n",
    "for i in range(10) :\n",
    "    if i % 2 == 0 :\n",
    "        print('Cái này được in')\n",
    "        continue\n",
    "    print(i)"
   ]
  },
  {
   "cell_type": "code",
   "execution_count": 10,
   "metadata": {
    "colab": {},
    "colab_type": "code",
    "id": "wZCorVqNJ8nR",
    "slideshow": {
     "slide_type": "slide"
    }
   },
   "outputs": [
    {
     "name": "stdout",
     "output_type": "stream",
     "text": [
      "36 không phải số nguyên tố\n"
     ]
    }
   ],
   "source": [
    "n = 36\n",
    "for i in range(2, n) :\n",
    "    if n % i == 0 :\n",
    "        print(f'{n} không phải số nguyên tố')\n",
    "        break\n",
    "\n",
    "if i == n - 1 :\n",
    "    print(f'{n} là số nguyên tố')"
   ]
  }
 ],
 "metadata": {
  "celltoolbar": "Slideshow",
  "colab": {
   "name": "Cấu trúc lặp",
   "provenance": []
  },
  "kernelspec": {
   "display_name": "Python 3",
   "language": "python",
   "name": "python3"
  },
  "language_info": {
   "codemirror_mode": {
    "name": "ipython",
    "version": 3
   },
   "file_extension": ".py",
   "mimetype": "text/x-python",
   "name": "python",
   "nbconvert_exporter": "python",
   "pygments_lexer": "ipython3",
   "version": "3.7.2"
  }
 },
 "nbformat": 4,
 "nbformat_minor": 1
}
