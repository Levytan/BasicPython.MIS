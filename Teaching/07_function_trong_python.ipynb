{
 "cells": [
  {
   "cell_type": "markdown",
   "metadata": {
    "colab_type": "text",
    "id": "exAQ52W9Bv86",
    "slideshow": {
     "slide_type": "slide"
    }
   },
   "source": [
    "# Giới thiệu\n",
    "Hàm (function) là một khối lệnh đặc biệt, nó được đặt tên, giúp mã chương trình dễ đọc hơn, và có thể gọi để sử dụng ở các nơi khác nhau trong chương trình. Hàm chính là khối lệnh có thể tái sử dụng (reuseable)."
   ]
  },
  {
   "cell_type": "markdown",
   "metadata": {
    "colab_type": "text",
    "id": "xr7fvx7MFRzn",
    "slideshow": {
     "slide_type": "slide"
    }
   },
   "source": [
    "# Cú pháp\n",
    "Để viết hàm, ta dùng cú pháp sau :\n",
    "```\n",
    "def tên_hàm(tham_số) :\n",
    "    [mô_tả_hàm]\n",
    "    hành_động\n",
    "```"
   ]
  },
  {
   "cell_type": "markdown",
   "metadata": {
    "colab_type": "text",
    "id": "XGf7Y00lFpmx",
    "slideshow": {
     "slide_type": "subslide"
    }
   },
   "source": [
    "Trong đó :\n",
    "- `def` là từ khoá của python, dùng để định nghĩa hàm (viết tắt của define).\n",
    "- `tham_số` : có thể có hoặc không, là các giá trị để truyền vào hàm số. Nếu truyền nhiều tham số, các tham số sẽ được phân cách bởi dấu phẩy.\n",
    "- `mô_tả_hàm` : có thể có hoặc không, dùng để cung cấp thông tin về hàm.\n",
    "- `hành_động` : chính là khối lệnh cần đặt tên"
   ]
  },
  {
   "cell_type": "markdown",
   "metadata": {
    "colab_type": "text",
    "id": "EQZvPtxsGoSH",
    "slideshow": {
     "slide_type": "subslide"
    }
   },
   "source": [
    "Sau khi viết hàm, bạn có thể gọi lại hàm bằng cách cú pháp :\n",
    "```\n",
    "tên_hàm([tham_số_phù_hợp])\n",
    "```"
   ]
  },
  {
   "cell_type": "code",
   "execution_count": 0,
   "metadata": {
    "colab": {
     "base_uri": "https://localhost:8080/",
     "height": 34
    },
    "colab_type": "code",
    "id": "ilvNDqABAkPZ",
    "outputId": "4c59d22b-0dca-4a60-a95b-ca597ce2512e",
    "slideshow": {
     "slide_type": "subslide"
    }
   },
   "outputs": [
    {
     "name": "stdout",
     "output_type": "stream",
     "text": [
      "Hello World!\n"
     ]
    }
   ],
   "source": [
    "# ví dụ hàm không có tham số\n",
    "def print_hello() :\n",
    "    print('Hello World!')\n",
    "\n",
    "#gọi hàm\n",
    "print_hello()"
   ]
  },
  {
   "cell_type": "code",
   "execution_count": 0,
   "metadata": {
    "colab": {
     "base_uri": "https://localhost:8080/",
     "height": 34
    },
    "colab_type": "code",
    "id": "80Ew3u8dHGU5",
    "outputId": "8326c69b-6106-423c-c80f-c5d99e966aa0",
    "slideshow": {
     "slide_type": "subslide"
    }
   },
   "outputs": [
    {
     "name": "stdout",
     "output_type": "stream",
     "text": [
      "Hello MIS\n"
     ]
    }
   ],
   "source": [
    "# ví dụ về hàm có tham số\n",
    "def print_hello_2(name) :\n",
    "    print('Hello ' + name)\n",
    "\n",
    "# gọi hàm, truyền 'MIS' vào hàm\n",
    "print_hello_2('MIS')"
   ]
  },
  {
   "cell_type": "code",
   "execution_count": 1,
   "metadata": {
    "colab": {},
    "colab_type": "code",
    "id": "rixW2zopKc0u",
    "slideshow": {
     "slide_type": "subslide"
    }
   },
   "outputs": [],
   "source": [
    "# ví dụ hàm có mô tả\n",
    "def print_hello_3() :\n",
    "    \"Hàm này sẽ in ra câu Hello World 10 lần.\"\n",
    "    for i in range(10) :\n",
    "        print('Hello World')"
   ]
  },
  {
   "cell_type": "markdown",
   "metadata": {
    "colab_type": "text",
    "id": "aalqe_tuLKKg",
    "slideshow": {
     "slide_type": "slide"
    }
   },
   "source": [
    "Bạn có thể xem `mô_tả_hàm` bằng cách :\n",
    "- `<tên_hàm>.__doc__`, hoặc\n",
    "- `? <tên_hàm>`"
   ]
  },
  {
   "cell_type": "code",
   "execution_count": 0,
   "metadata": {
    "colab": {
     "base_uri": "https://localhost:8080/",
     "height": 34
    },
    "colab_type": "code",
    "id": "gk_Enkv8Lfhf",
    "outputId": "474ddcfa-94cd-4ebe-8fe5-44ab6ab91111",
    "slideshow": {
     "slide_type": "subslide"
    }
   },
   "outputs": [
    {
     "data": {
      "text/plain": [
       "'Hàm này sẽ in ra câu Hello World 10 lần.'"
      ]
     },
     "execution_count": 12,
     "metadata": {
      "tags": []
     },
     "output_type": "execute_result"
    }
   ],
   "source": [
    "print_hello_3.__doc__"
   ]
  },
  {
   "cell_type": "code",
   "execution_count": 3,
   "metadata": {
    "colab": {},
    "colab_type": "code",
    "id": "g1jV2OBELmDo",
    "slideshow": {
     "slide_type": "subslide"
    }
   },
   "outputs": [],
   "source": [
    "? print"
   ]
  },
  {
   "cell_type": "markdown",
   "metadata": {
    "colab_type": "text",
    "id": "FIXpkpnhI4sR",
    "slideshow": {
     "slide_type": "slide"
    }
   },
   "source": [
    "# Từ khoá `return`"
   ]
  },
  {
   "cell_type": "markdown",
   "metadata": {
    "colab_type": "text",
    "id": "apCVEF9GKHVN",
    "slideshow": {
     "slide_type": "subslide"
    }
   },
   "source": [
    "Đây là từ khoá của python, giúp bạn trả về một (hoặc nhiều) giá trị khi thực hiện hàm. Bạn sử dụng `return` như sau :\n",
    "```\n",
    "return [giá_trị_trả_về]\n",
    "```\n",
    "Khi gặp `return`, python sẽ lập tức dừng hàm và đưa cho bạn `giá_trị_trả_về`."
   ]
  },
  {
   "cell_type": "code",
   "execution_count": 0,
   "metadata": {
    "colab": {
     "base_uri": "https://localhost:8080/",
     "height": 34
    },
    "colab_type": "code",
    "id": "ttA3Pb4WIjPr",
    "outputId": "ff2a032e-0836-4b43-fecc-a5bc24054172",
    "slideshow": {
     "slide_type": "subslide"
    }
   },
   "outputs": [
    {
     "name": "stdout",
     "output_type": "stream",
     "text": [
      "20\n"
     ]
    }
   ],
   "source": [
    "def tim_so_lon_nhat(a, b) :\n",
    "    \"Trả về số lớn nhất trong hai số a, b\"\n",
    "    if a > b :\n",
    "        return a\n",
    "    return b\n",
    "\n",
    "c = tim_so_lon_nhat(10, 20)\n",
    "print(c)"
   ]
  },
  {
   "cell_type": "markdown",
   "metadata": {
    "colab_type": "text",
    "id": "_qKMFbz-P5v_",
    "slideshow": {
     "slide_type": "slide"
    }
   },
   "source": [
    "# Tham số trong python"
   ]
  },
  {
   "cell_type": "markdown",
   "metadata": {
    "colab_type": "text",
    "id": "viAtLrg1P-XE",
    "slideshow": {
     "slide_type": "slide"
    }
   },
   "source": [
    "## Ý nghĩa\n",
    "Tham số chính là tên đại diện cho những giá trị bạn truyền vào."
   ]
  },
  {
   "cell_type": "markdown",
   "metadata": {
    "colab_type": "text",
    "id": "K2-9FwLEQe5k",
    "slideshow": {
     "slide_type": "slide"
    }
   },
   "source": [
    "## Cách truyền tham số\n",
    "Để truyền tham số vào một hàm, bạn có 2 cách :\n",
    "- Dùng vị trí tham số.\n",
    "- Dùng tên tham số."
   ]
  },
  {
   "cell_type": "markdown",
   "metadata": {
    "colab_type": "text",
    "id": "qTBlwE6ZQ189",
    "slideshow": {
     "slide_type": "subslide"
    }
   },
   "source": [
    "Khi truyền tham số vào một hàm, python sẽ tự động hiểu giá trị thứ nhất tương ứng với tham số thứ nhất, giá trị thứ 2 tương ứng với tham số thứ 2, ...\n",
    "\n",
    "Cùng xem ví dụ sau :"
   ]
  },
  {
   "cell_type": "code",
   "execution_count": 0,
   "metadata": {
    "colab": {
     "base_uri": "https://localhost:8080/",
     "height": 51
    },
    "colab_type": "code",
    "id": "PjbpH8iHPrSM",
    "outputId": "7414886c-c272-4efc-e48a-b967d9da47bb",
    "slideshow": {
     "slide_type": "subslide"
    }
   },
   "outputs": [
    {
     "name": "stdout",
     "output_type": "stream",
     "text": [
      "a = 10\n",
      "b = 20\n"
     ]
    }
   ],
   "source": [
    "def in_hai_so(a, b) :\n",
    "    print('a =', a)\n",
    "    print('b =', b)\n",
    "\n",
    "in_hai_so(10, 20)"
   ]
  },
  {
   "cell_type": "markdown",
   "metadata": {
    "colab_type": "text",
    "id": "yi1eJn7TSdGd",
    "slideshow": {
     "slide_type": "slide"
    }
   },
   "source": [
    "Ngoài ra, bạn có thể truyền giá trị tham số theo tên của tham số đó trong định nghĩa hàm như thế này :"
   ]
  },
  {
   "cell_type": "code",
   "execution_count": 0,
   "metadata": {
    "colab": {
     "base_uri": "https://localhost:8080/",
     "height": 51
    },
    "colab_type": "code",
    "id": "WsSBoq4BR3jb",
    "outputId": "ec262de5-ab32-4a42-e305-f0af96b17e2f",
    "slideshow": {
     "slide_type": "subslide"
    }
   },
   "outputs": [
    {
     "name": "stdout",
     "output_type": "stream",
     "text": [
      "a = 10\n",
      "b = 20\n"
     ]
    }
   ],
   "source": [
    "in_hai_so(a = 10, b = 20)"
   ]
  },
  {
   "cell_type": "code",
   "execution_count": 0,
   "metadata": {
    "colab": {
     "base_uri": "https://localhost:8080/",
     "height": 51
    },
    "colab_type": "code",
    "id": "P3iI7LrJSk7n",
    "outputId": "b1badf84-b0ad-41c2-cc18-2ac6c4dd165a",
    "slideshow": {
     "slide_type": "subslide"
    }
   },
   "outputs": [
    {
     "name": "stdout",
     "output_type": "stream",
     "text": [
      "a = 20\n",
      "b = 10\n"
     ]
    }
   ],
   "source": [
    "in_hai_so(b = 10, a = 20)"
   ]
  },
  {
   "cell_type": "markdown",
   "metadata": {
    "colab_type": "text",
    "id": "SulSj_AcSqj6",
    "slideshow": {
     "slide_type": "subslide"
    }
   },
   "source": [
    "Khi truyền theo tên tham số, bạn không cần chú ý đến thứ tự truyền."
   ]
  },
  {
   "cell_type": "markdown",
   "metadata": {
    "colab_type": "text",
    "id": "cS9aO9A7UCku",
    "slideshow": {
     "slide_type": "slide"
    }
   },
   "source": [
    "Lưu ý, trong các ví dụ từ đầu đến đây, bạn đều phải truyền đủ số lượng tham chiếu trong định nghĩa hàm. Những tham số đó được gọi là tham số bắt buộc."
   ]
  },
  {
   "cell_type": "code",
   "execution_count": 0,
   "metadata": {
    "colab": {
     "base_uri": "https://localhost:8080/",
     "height": 163
    },
    "colab_type": "code",
    "id": "PDs8MS0SUdrD",
    "outputId": "d4ea1210-e0b0-4ef6-dbcd-f9e9de09eb0c",
    "slideshow": {
     "slide_type": "subslide"
    }
   },
   "outputs": [
    {
     "ename": "TypeError",
     "evalue": "ignored",
     "output_type": "error",
     "traceback": [
      "\u001b[0;31m---------------------------------------------------------------------------\u001b[0m",
      "\u001b[0;31mTypeError\u001b[0m                                 Traceback (most recent call last)",
      "\u001b[0;32m<ipython-input-22-d0b1019a174c>\u001b[0m in \u001b[0;36m<module>\u001b[0;34m()\u001b[0m\n\u001b[0;32m----> 1\u001b[0;31m \u001b[0min_hai_so\u001b[0m\u001b[0;34m(\u001b[0m\u001b[0;36m10\u001b[0m\u001b[0;34m)\u001b[0m\u001b[0;34m\u001b[0m\u001b[0;34m\u001b[0m\u001b[0m\n\u001b[0m",
      "\u001b[0;31mTypeError\u001b[0m: in_hai_so() missing 1 required positional argument: 'b'"
     ]
    }
   ],
   "source": [
    "in_hai_so(10)"
   ]
  },
  {
   "cell_type": "markdown",
   "metadata": {
    "colab_type": "text",
    "id": "RuEsjD6TUhsM",
    "slideshow": {
     "slide_type": "slide"
    }
   },
   "source": [
    "Tuy nhiên, có hai trường hợp python cho phép bạn không cần truyền đủ tham số :\n",
    "- Tham số có giá trị mặc định.\n",
    "- Tham số có độ dài thay đổi."
   ]
  },
  {
   "cell_type": "markdown",
   "metadata": {
    "colab_type": "text",
    "id": "ViReldGgTTBE",
    "slideshow": {
     "slide_type": "slide"
    }
   },
   "source": [
    "## Gán giá trị mặc định cho tham số\n",
    "Khi khởi tạo hàm, python cho phép bạn gán cho tham số một giá trị mặc định. Khi truyền tham số vào, nếu bạn không có giá trị nào cho tham số đó thì nó sẽ lấy giá trị mặc định.\n",
    "\n",
    "Để gán giá trị mặc định, bạn dùng :\n",
    "```\n",
    "def tên_hàm(<tham_số_1> = <giá_trị_mặc_định>, ...) :\n",
    "```"
   ]
  },
  {
   "cell_type": "code",
   "execution_count": 0,
   "metadata": {
    "colab": {
     "base_uri": "https://localhost:8080/",
     "height": 51
    },
    "colab_type": "code",
    "id": "YYH4V8pXSppi",
    "outputId": "733e8387-d012-4844-d1e8-668c0cdc6dd3",
    "slideshow": {
     "slide_type": "subslide"
    }
   },
   "outputs": [
    {
     "name": "stdout",
     "output_type": "stream",
     "text": [
      "10\n",
      "20\n"
     ]
    }
   ],
   "source": [
    "# tạo hàm vi_du, có 1 tham số với giá trị mặc định là 10\n",
    "def vi_du(a = 10) :\n",
    "    print(a)\n",
    "\n",
    "# gọi hàm, không truyền tham số\n",
    "vi_du()\n",
    "\n",
    "# gọi hàm, truyền tham số\n",
    "vi_du(20)"
   ]
  },
  {
   "cell_type": "markdown",
   "metadata": {
    "colab_type": "text",
    "id": "gMsYdzbRZCta",
    "slideshow": {
     "slide_type": "slide"
    }
   },
   "source": [
    "## Tham số có độ dài thay đổi"
   ]
  },
  {
   "cell_type": "markdown",
   "metadata": {
    "colab_type": "text",
    "id": "BB2uSnXieQid",
    "slideshow": {
     "slide_type": "subslide"
    }
   },
   "source": [
    "Python cung cấp 2 tham số đặc biệt sau đây, gọi là tham số có độ dài thay đổi :\n",
    "- *args : dùng cho cách truyền biến theo vị trí\n",
    "- **kargs : dùng cho cách truyền biến theo tên tham số\n",
    "\n",
    "Trong hàm, thì các tham số luôn đặt theo thứ tự :\n",
    "```\n",
    "tham_số_bắt_buộc -> *args -> **kargs\n",
    "```"
   ]
  },
  {
   "cell_type": "markdown",
   "metadata": {
    "colab_type": "text",
    "id": "LFEmX8SmfbLb",
    "slideshow": {
     "slide_type": "slide"
    }
   },
   "source": [
    "Bạn có thể hiểu `*args` là những tham số truyền theo vị trí còn lại, không tính các tham số bắt buộc. Những tham số này được gom chung thành `tuple` (một dạng `list`).\n",
    "Ví dụ, bạn có định nghĩa hàm sau :\n",
    "```\n",
    "def vi_du_2(a, b, *args) :\n",
    "    pass\n",
    "```\n",
    "Khi gọi hàm :\n",
    "- `vi_du_2(1, 2, 3)` thì `args = (3)`\n",
    "- `vi_du_2(1, 2, 3, 4)` thì `args = (3, 4)`\n",
    "- `vi_du_2(1, 2)` thì `args = ()`"
   ]
  },
  {
   "cell_type": "code",
   "execution_count": 0,
   "metadata": {
    "colab": {
     "base_uri": "https://localhost:8080/",
     "height": 136
    },
    "colab_type": "code",
    "id": "_QIEpWknd7NM",
    "outputId": "91740db4-9c96-4bb4-e9fd-066093c835a2",
    "slideshow": {
     "slide_type": "subslide"
    }
   },
   "outputs": [
    {
     "name": "stdout",
     "output_type": "stream",
     "text": [
      "2\n",
      "3\n",
      "---\n",
      "---\n",
      "2\n",
      "3\n",
      "4\n"
     ]
    }
   ],
   "source": [
    "def vi_du_2(a, *args) :\n",
    "    for i in args :\n",
    "        print(i)\n",
    "\n",
    "vi_du_2(1, 2, 3)\n",
    "print('---')\n",
    "vi_du_2(1)\n",
    "print('---')\n",
    "vi_du_2(1, 2, 3, 4)"
   ]
  },
  {
   "cell_type": "markdown",
   "metadata": {
    "colab_type": "text",
    "id": "oHgp6f3yiQIM",
    "slideshow": {
     "slide_type": "slide"
    }
   },
   "source": [
    "Tương tự như `*args`, `**kargs` là những tham số truyền theo tên còn lại, không tính các tham số bắt buộc. Các tham số này được gom chung lại thành một `dictionary` với khoá là tên tham số còn giá trị là giá trị truyền vào."
   ]
  },
  {
   "cell_type": "code",
   "execution_count": 0,
   "metadata": {
    "colab": {
     "base_uri": "https://localhost:8080/",
     "height": 119
    },
    "colab_type": "code",
    "id": "AsNKfFkoh0yK",
    "outputId": "b965eddc-a46a-4c19-8892-568154892a4f",
    "slideshow": {
     "slide_type": "subslide"
    }
   },
   "outputs": [
    {
     "name": "stdout",
     "output_type": "stream",
     "text": [
      "(b : 2)\n",
      "(c : 4)\n",
      "(d : 5)\n",
      "---\n",
      "(b : 5)\n",
      "(c : 4)\n"
     ]
    }
   ],
   "source": [
    "def vi_du_3(a, **kargs) :\n",
    "    # kargs là dictionary\n",
    "    for k, v in kargs.items() :\n",
    "        print(f'({k} : {v})')\n",
    "\n",
    "vi_du_3(1, b = 2, c = 4, d = 5)\n",
    "print('---')\n",
    "vi_du_3(b = 5, c = 4, a = 1)"
   ]
  },
  {
   "cell_type": "code",
   "execution_count": 0,
   "metadata": {
    "colab": {
     "base_uri": "https://localhost:8080/",
     "height": 51
    },
    "colab_type": "code",
    "id": "GOZCsoVjjIPm",
    "outputId": "8688c6eb-d792-44ef-ac78-5f6bb57183df",
    "slideshow": {
     "slide_type": "subslide"
    }
   },
   "outputs": [
    {
     "name": "stdout",
     "output_type": "stream",
     "text": [
      "(2, 3)\n",
      "{'c': 5, 'd': 7}\n"
     ]
    }
   ],
   "source": [
    "# ví dụ kết hợp *args và **kargs\n",
    "def vi_du_4(a, *args, **kargs) :\n",
    "    print(args)\n",
    "    print(kargs)\n",
    "\n",
    "vi_du_4(1, 2, 3, c = 5, d = 7)"
   ]
  },
  {
   "cell_type": "code",
   "execution_count": 5,
   "metadata": {
    "slideshow": {
     "slide_type": "slide"
    }
   },
   "outputs": [],
   "source": [
    "def find_max(a, *args) :\n",
    "    m = a\n",
    "    for i in args :\n",
    "        m = i if i > m else m\n",
    "    return m"
   ]
  },
  {
   "cell_type": "code",
   "execution_count": 6,
   "metadata": {},
   "outputs": [
    {
     "data": {
      "text/plain": [
       "4"
      ]
     },
     "execution_count": 6,
     "metadata": {},
     "output_type": "execute_result"
    }
   ],
   "source": [
    "find_max(1, 2, 3, 4)"
   ]
  },
  {
   "cell_type": "code",
   "execution_count": 7,
   "metadata": {},
   "outputs": [],
   "source": [
    "?int"
   ]
  },
  {
   "cell_type": "code",
   "execution_count": null,
   "metadata": {},
   "outputs": [],
   "source": []
  }
 ],
 "metadata": {
  "celltoolbar": "Slideshow",
  "colab": {
   "collapsed_sections": [],
   "name": "function trong python",
   "provenance": []
  },
  "kernelspec": {
   "display_name": "Python 3",
   "language": "python",
   "name": "python3"
  },
  "language_info": {
   "codemirror_mode": {
    "name": "ipython",
    "version": 3
   },
   "file_extension": ".py",
   "mimetype": "text/x-python",
   "name": "python",
   "nbconvert_exporter": "python",
   "pygments_lexer": "ipython3",
   "version": "3.7.2"
  }
 },
 "nbformat": 4,
 "nbformat_minor": 1
}
